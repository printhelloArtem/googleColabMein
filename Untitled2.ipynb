{
  "nbformat": 4,
  "nbformat_minor": 0,
  "metadata": {
    "colab": {
      "provenance": []
    },
    "kernelspec": {
      "name": "python3",
      "display_name": "Python 3"
    },
    "language_info": {
      "name": "python"
    }
  },
  "cells": [
    {
      "cell_type": "code",
      "execution_count": 35,
      "metadata": {
        "id": "LurImaqMxs7F"
      },
      "outputs": [],
      "source": [
        "import pandas as pd\n",
        "\n"
      ]
    },
    {
      "cell_type": "code",
      "source": [
        "import random\n",
        "lst = ['robot'] * 10\n",
        "lst += ['human'] * 10\n",
        "random.shuffle(lst)\n",
        "data = pd.DataFrame({'whoAmI': lst})\n",
        "unique_labels = data['whoAmI'].unique()\n",
        "for label in unique_labels:\n",
        "    data[label] = (data['whoAmI'] == label).astype(int)\n",
        "data = data.drop('whoAmI', axis = 1)\n",
        "data.head\n",
        "\n"
      ],
      "metadata": {
        "colab": {
          "base_uri": "https://localhost:8080/"
        },
        "id": "HU98LHNv3Dac",
        "outputId": "63c4a92b-f559-42e1-cf33-b1ecd11c1975"
      },
      "execution_count": 41,
      "outputs": [
        {
          "output_type": "execute_result",
          "data": {
            "text/plain": [
              "<bound method NDFrame.head of     human  robot\n",
              "0       1      0\n",
              "1       1      0\n",
              "2       1      0\n",
              "3       1      0\n",
              "4       0      1\n",
              "5       0      1\n",
              "6       1      0\n",
              "7       1      0\n",
              "8       0      1\n",
              "9       1      0\n",
              "10      1      0\n",
              "11      0      1\n",
              "12      0      1\n",
              "13      0      1\n",
              "14      0      1\n",
              "15      1      0\n",
              "16      0      1\n",
              "17      0      1\n",
              "18      1      0\n",
              "19      0      1>"
            ]
          },
          "metadata": {},
          "execution_count": 41
        }
      ]
    }
  ]
}